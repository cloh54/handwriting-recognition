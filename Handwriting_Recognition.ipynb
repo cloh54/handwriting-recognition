{
 "cells": [
  {
   "cell_type": "markdown",
   "metadata": {},
   "source": [
    "# Handwriting Recognition\n",
    "Author: Cynthia Loh <br>\n",
    "CWID: 10450298 <br>\n",
    "Due Date: 12/16/21 <br>\n",
    "Pledge: I pledge my honor that I have abided by the Stevens Honor System."
   ]
  },
  {
   "cell_type": "code",
   "execution_count": 1,
   "metadata": {},
   "outputs": [
    {
     "name": "stdout",
     "output_type": "stream",
     "text": [
      "Requirement already satisfied: idx2numpy in c:\\users\\cynth\\anaconda3\\lib\\site-packages (1.2.3)\n",
      "Requirement already satisfied: six in c:\\users\\cynth\\anaconda3\\lib\\site-packages (from idx2numpy) (1.15.0)\n",
      "Requirement already satisfied: numpy in c:\\users\\cynth\\anaconda3\\lib\\site-packages (from idx2numpy) (1.19.2)\n"
     ]
    }
   ],
   "source": [
    "!pip install idx2numpy\n",
    "import idx2numpy"
   ]
  },
  {
   "cell_type": "code",
   "execution_count": 3,
   "metadata": {},
   "outputs": [
    {
     "name": "stdout",
     "output_type": "stream",
     "text": [
      "Requirement already satisfied: tensorflow in c:\\users\\cynth\\anaconda3\\lib\\site-packages (2.7.0)\n",
      "Requirement already satisfied: keras-preprocessing>=1.1.1 in c:\\users\\cynth\\anaconda3\\lib\\site-packages (from tensorflow) (1.1.2)\n",
      "Requirement already satisfied: keras<2.8,>=2.7.0rc0 in c:\\users\\cynth\\anaconda3\\lib\\site-packages (from tensorflow) (2.7.0)\n",
      "Requirement already satisfied: tensorflow-io-gcs-filesystem>=0.21.0 in c:\\users\\cynth\\anaconda3\\lib\\site-packages (from tensorflow) (0.22.0)\n",
      "Requirement already satisfied: google-pasta>=0.1.1 in c:\\users\\cynth\\anaconda3\\lib\\site-packages (from tensorflow) (0.2.0)\n",
      "Requirement already satisfied: protobuf>=3.9.2 in c:\\users\\cynth\\anaconda3\\lib\\site-packages (from tensorflow) (3.19.1)\n",
      "Requirement already satisfied: wheel<1.0,>=0.32.0 in c:\\users\\cynth\\anaconda3\\lib\\site-packages (from tensorflow) (0.35.1)\n",
      "Requirement already satisfied: tensorboard~=2.6 in c:\\users\\cynth\\anaconda3\\lib\\site-packages (from tensorflow) (2.7.0)\n",
      "Requirement already satisfied: h5py>=2.9.0 in c:\\users\\cynth\\anaconda3\\lib\\site-packages (from tensorflow) (2.10.0)\n",
      "Requirement already satisfied: numpy>=1.14.5 in c:\\users\\cynth\\anaconda3\\lib\\site-packages (from tensorflow) (1.19.2)\n",
      "Requirement already satisfied: wrapt>=1.11.0 in c:\\users\\cynth\\anaconda3\\lib\\site-packages (from tensorflow) (1.11.2)\n",
      "Requirement already satisfied: six>=1.12.0 in c:\\users\\cynth\\anaconda3\\lib\\site-packages (from tensorflow) (1.15.0)\n",
      "Requirement already satisfied: flatbuffers<3.0,>=1.12 in c:\\users\\cynth\\anaconda3\\lib\\site-packages (from tensorflow) (2.0)\n",
      "Requirement already satisfied: grpcio<2.0,>=1.24.3 in c:\\users\\cynth\\anaconda3\\lib\\site-packages (from tensorflow) (1.42.0)\n",
      "Requirement already satisfied: opt-einsum>=2.3.2 in c:\\users\\cynth\\anaconda3\\lib\\site-packages (from tensorflow) (3.3.0)\n",
      "Requirement already satisfied: gast<0.5.0,>=0.2.1 in c:\\users\\cynth\\anaconda3\\lib\\site-packages (from tensorflow) (0.4.0)\n",
      "Requirement already satisfied: termcolor>=1.1.0 in c:\\users\\cynth\\anaconda3\\lib\\site-packages (from tensorflow) (1.1.0)\n",
      "Requirement already satisfied: typing-extensions>=3.6.6 in c:\\users\\cynth\\anaconda3\\lib\\site-packages (from tensorflow) (3.7.4.3)\n",
      "Requirement already satisfied: libclang>=9.0.1 in c:\\users\\cynth\\anaconda3\\lib\\site-packages (from tensorflow) (12.0.0)\n",
      "Requirement already satisfied: absl-py>=0.4.0 in c:\\users\\cynth\\anaconda3\\lib\\site-packages (from tensorflow) (1.0.0)\n",
      "Requirement already satisfied: tensorflow-estimator<2.8,~=2.7.0rc0 in c:\\users\\cynth\\anaconda3\\lib\\site-packages (from tensorflow) (2.7.0)\n",
      "Requirement already satisfied: astunparse>=1.6.0 in c:\\users\\cynth\\anaconda3\\lib\\site-packages (from tensorflow) (1.6.3)\n",
      "Requirement already satisfied: google-auth-oauthlib<0.5,>=0.4.1 in c:\\users\\cynth\\anaconda3\\lib\\site-packages (from tensorboard~=2.6->tensorflow) (0.4.6)\n",
      "Requirement already satisfied: tensorboard-data-server<0.7.0,>=0.6.0 in c:\\users\\cynth\\anaconda3\\lib\\site-packages (from tensorboard~=2.6->tensorflow) (0.6.1)\n",
      "Requirement already satisfied: requests<3,>=2.21.0 in c:\\users\\cynth\\anaconda3\\lib\\site-packages (from tensorboard~=2.6->tensorflow) (2.24.0)\n",
      "Requirement already satisfied: setuptools>=41.0.0 in c:\\users\\cynth\\anaconda3\\lib\\site-packages (from tensorboard~=2.6->tensorflow) (50.3.1.post20201107)\n",
      "Requirement already satisfied: markdown>=2.6.8 in c:\\users\\cynth\\anaconda3\\lib\\site-packages (from tensorboard~=2.6->tensorflow) (3.3.6)\n",
      "Requirement already satisfied: google-auth<3,>=1.6.3 in c:\\users\\cynth\\anaconda3\\lib\\site-packages (from tensorboard~=2.6->tensorflow) (2.3.3)\n",
      "Requirement already satisfied: werkzeug>=0.11.15 in c:\\users\\cynth\\anaconda3\\lib\\site-packages (from tensorboard~=2.6->tensorflow) (1.0.1)\n",
      "Requirement already satisfied: tensorboard-plugin-wit>=1.6.0 in c:\\users\\cynth\\anaconda3\\lib\\site-packages (from tensorboard~=2.6->tensorflow) (1.8.0)\n",
      "Requirement already satisfied: requests-oauthlib>=0.7.0 in c:\\users\\cynth\\anaconda3\\lib\\site-packages (from google-auth-oauthlib<0.5,>=0.4.1->tensorboard~=2.6->tensorflow) (1.3.0)\n",
      "Requirement already satisfied: urllib3!=1.25.0,!=1.25.1,<1.26,>=1.21.1 in c:\\users\\cynth\\anaconda3\\lib\\site-packages (from requests<3,>=2.21.0->tensorboard~=2.6->tensorflow) (1.25.11)\n",
      "Requirement already satisfied: certifi>=2017.4.17 in c:\\users\\cynth\\anaconda3\\lib\\site-packages (from requests<3,>=2.21.0->tensorboard~=2.6->tensorflow) (2020.6.20)\n",
      "Requirement already satisfied: chardet<4,>=3.0.2 in c:\\users\\cynth\\anaconda3\\lib\\site-packages (from requests<3,>=2.21.0->tensorboard~=2.6->tensorflow) (3.0.4)\n",
      "Requirement already satisfied: idna<3,>=2.5 in c:\\users\\cynth\\anaconda3\\lib\\site-packages (from requests<3,>=2.21.0->tensorboard~=2.6->tensorflow) (2.10)\n",
      "Requirement already satisfied: importlib-metadata>=4.4; python_version < \"3.10\" in c:\\users\\cynth\\anaconda3\\lib\\site-packages (from markdown>=2.6.8->tensorboard~=2.6->tensorflow) (4.8.2)\n",
      "Requirement already satisfied: pyasn1-modules>=0.2.1 in c:\\users\\cynth\\anaconda3\\lib\\site-packages (from google-auth<3,>=1.6.3->tensorboard~=2.6->tensorflow) (0.2.8)\n",
      "Requirement already satisfied: cachetools<5.0,>=2.0.0 in c:\\users\\cynth\\anaconda3\\lib\\site-packages (from google-auth<3,>=1.6.3->tensorboard~=2.6->tensorflow) (4.2.4)\n",
      "Requirement already satisfied: rsa<5,>=3.1.4; python_version >= \"3.6\" in c:\\users\\cynth\\anaconda3\\lib\\site-packages (from google-auth<3,>=1.6.3->tensorboard~=2.6->tensorflow) (4.8)\n",
      "Requirement already satisfied: oauthlib>=3.0.0 in c:\\users\\cynth\\anaconda3\\lib\\site-packages (from requests-oauthlib>=0.7.0->google-auth-oauthlib<0.5,>=0.4.1->tensorboard~=2.6->tensorflow) (3.1.1)\n",
      "Requirement already satisfied: zipp>=0.5 in c:\\users\\cynth\\anaconda3\\lib\\site-packages (from importlib-metadata>=4.4; python_version < \"3.10\"->markdown>=2.6.8->tensorboard~=2.6->tensorflow) (3.4.0)\n",
      "Requirement already satisfied: pyasn1<0.5.0,>=0.4.6 in c:\\users\\cynth\\anaconda3\\lib\\site-packages (from pyasn1-modules>=0.2.1->google-auth<3,>=1.6.3->tensorboard~=2.6->tensorflow) (0.4.8)\n",
      "Requirement already satisfied: opencv-python in c:\\users\\cynth\\anaconda3\\lib\\site-packages (4.5.4.60)\n",
      "Requirement already satisfied: numpy>=1.17.3 in c:\\users\\cynth\\anaconda3\\lib\\site-packages (from opencv-python) (1.19.2)\n"
     ]
    }
   ],
   "source": [
    "import pandas as pd\n",
    "import numpy as np\n",
    "from matplotlib import pyplot as plt\n",
    "from sklearn.preprocessing import MinMaxScaler\n",
    "from sklearn.model_selection import train_test_split\n",
    "from sklearn.metrics import accuracy_score\n",
    "\n",
    "# Task 1 \n",
    "from sklearn.linear_model import LogisticRegression\n",
    "from sklearn import svm\n",
    "from sklearn.tree import DecisionTreeClassifier\n",
    "from sklearn.ensemble import RandomForestClassifier\n",
    "\n",
    "# Task 2\n",
    "!pip install tensorflow\n",
    "from tensorflow import keras\n",
    "from keras.models import Sequential\n",
    "from keras.layers import Dense, Dropout, Conv2D, MaxPool2D, Flatten\n",
    "from tensorflow.keras.utils import to_categorical\n",
    "from tensorflow.keras.optimizers import SGD\n",
    "\n",
    "# Task 3\n",
    "!pip install opencv-python\n",
    "import cv2\n",
    "import os\n",
    "from scipy import ndimage, misc"
   ]
  },
  {
   "cell_type": "code",
   "execution_count": 4,
   "metadata": {},
   "outputs": [],
   "source": [
    "train_images_file = './data/train-images.idx3-ubyte' \n",
    "train_labels_file = './data/train-labels.idx1-ubyte'\n",
    "test_images_file = './data/t10k-images.idx3-ubyte'\n",
    "test_labels_file = './data/t10k-labels.idx1-ubyte'\n",
    "\n",
    "train_images = idx2numpy.convert_from_file(train_images_file)\n",
    "train_labels = idx2numpy.convert_from_file(train_labels_file)\n",
    "test_images = idx2numpy.convert_from_file(test_images_file)\n",
    "test_labels = idx2numpy.convert_from_file(test_labels_file)"
   ]
  },
  {
   "cell_type": "code",
   "execution_count": 5,
   "metadata": {},
   "outputs": [
    {
     "name": "stdout",
     "output_type": "stream",
     "text": [
      "train images shape: (60000, 28, 28)\n",
      "train labels shape: (60000,)\n",
      "test images shape: (10000, 28, 28)\n",
      "test labels shape: (10000,)\n"
     ]
    }
   ],
   "source": [
    "print(\"train images shape: \" + str(train_images.shape))\n",
    "print(\"train labels shape: \" + str(train_labels.shape))\n",
    "print(\"test images shape: \" + str(test_images.shape))\n",
    "print(\"test labels shape: \" + str(test_labels.shape))\n"
   ]
  },
  {
   "cell_type": "code",
   "execution_count": 6,
   "metadata": {},
   "outputs": [
    {
     "name": "stdout",
     "output_type": "stream",
     "text": [
      "train data shape: (60000, 784)\n",
      "test data shape: (10000, 784)\n"
     ]
    }
   ],
   "source": [
    "train_data=train_images.reshape(60000,28*28)\n",
    "test_data=test_images.reshape(10000,28*28)\n",
    "print(\"train data shape: \" + str(train_data.shape))\n",
    "print(\"test data shape: \" + str(test_data.shape))"
   ]
  },
  {
   "cell_type": "code",
   "execution_count": 7,
   "metadata": {},
   "outputs": [
    {
     "data": {
      "image/png": "[encoded data removed]",
      "text/plain": [
       "<Figure size 432x288 with 9 Axes>"
      ]
     },
     "metadata": {
      "needs_background": "light"
     },
     "output_type": "display_data"
    },
    {
     "name": "stdout",
     "output_type": "stream",
     "text": [
      "labels: [5 0 4 1 9 2 1 3 1]\n"
     ]
    }
   ],
   "source": [
    "for i in range(9):\n",
    "    plt.subplot(330+1+i)\n",
    "    plt.imshow(train_images[i], cmap=plt.get_cmap('gray'))\n",
    "plt.show()\n",
    "print(\"labels: \" + str(train_labels[:9]))"
   ]
  },
  {
   "cell_type": "markdown",
   "metadata": {},
   "source": [
    "## Task #1\n",
    "Build a number of non-deep learning based classifiers using all pixels as features for handwriting recognition. \n",
    "<br>\n",
    "The techniques used are \n",
    "- Logistic Regression\n",
    "- SVM\n",
    "- Decision Tree\n",
    "- Random Forest"
   ]
  },
  {
   "cell_type": "markdown",
   "metadata": {},
   "source": [
    "#### Scale the data"
   ]
  },
  {
   "cell_type": "code",
   "execution_count": 8,
   "metadata": {},
   "outputs": [],
   "source": [
    "scaler = MinMaxScaler()\n",
    "scaler.fit(train_data)\n",
    "X_train = scaler.transform(train_data)\n",
    "X_test = scaler.transform(test_data)"
   ]
  },
  {
   "cell_type": "markdown",
   "metadata": {},
   "source": [
    "#### Logistic Regression\n",
    "General description: Logistic Regression is a classification model that acts very similarly to linear regression. Logistic regression is most commonly used for binary classification. For multiclass classification, the logistic model uses a cross-entropy loss function. Logistic regression predicts a dependent data variable by analysing the relationship between other independent variables. \n",
    "\n",
    "Pros: \n",
    "- Fast and relatively simple classification method\n",
    "- Good accuracy for simple datasets\n",
    "- Provides a measure of how appropriate a predictor is and provides its direction of association\n",
    "\n",
    "Cons: \n",
    "- Cannot be used for non-linear classification problems\n",
    "- Colinearity and outliers negatively affact the accuracy of logistic regression model\n",
    "- Difficult to obtain complex relationships using logistic regression\n",
    "\n",
    "Suitability for handwriting recognition: Logistic regression is suitable for handwriting recognition because it finds which pixels are most important for the computation of each digit. Digits such as 0 and 1 are more easily distinguishable than the others that share more pixels in common and have more complex shapes. "
   ]
  },
  {
   "cell_type": "code",
   "execution_count": 9,
   "metadata": {},
   "outputs": [
    {
     "data": {
      "text/plain": [
       "LogisticRegression(max_iter=1000)"
      ]
     },
     "execution_count": 9,
     "metadata": {},
     "output_type": "execute_result"
    }
   ],
   "source": [
    "# Logistic Regression model\n",
    "\n",
    "lr_model = LogisticRegression(max_iter=1000)\n",
    "lr_model.fit(X_train, train_labels)"
   ]
  },
  {
   "cell_type": "code",
   "execution_count": 10,
   "metadata": {},
   "outputs": [],
   "source": [
    "lr_pred = lr_model.predict(X_test)\n",
    "lr_acc = accuracy_score(test_labels, lr_pred)"
   ]
  },
  {
   "cell_type": "markdown",
   "metadata": {},
   "source": [
    "#### SVM\n",
    "General description: SVM stands for Supportive Vector Machine. SVM is an extension of the Perceptron developed by Rosenblatt. SVM works by finding a hyperlane between the data of the classes. SVM finds the best hyperplane by finding the points closest to this line from both classes, these are called support vectors. The distance between the line and the support vectors is called the margin and the optimal hyperplane is the one where the margin is maximized.\n",
    "\n",
    "Pros: \n",
    "- It works very well with a clear margin of separation\n",
    "- Effective in high dimensional spaces\n",
    "- Memory efficient\n",
    "- Effective when the number of dimensions is greater than the number of samples\n",
    "\n",
    "Cons: \n",
    "- Does not directly provide probability estimates\n",
    "- Does not perform well when classes overlap (noisy data set)\n",
    "- Low effiency when the data set is too large because the required training time is higher\n",
    "\n",
    "Suitability for handwriting recognition: Its accuracy depends on the kernel used. For example, when using a linear kernel, the accuracy found was around 92% while a polynomial kernel gives an accuracy score of about 98%. This is because the shapes of the digits are not always linear and many of the digits are curved and rounded. "
   ]
  },
  {
   "cell_type": "code",
   "execution_count": 11,
   "metadata": {},
   "outputs": [
    {
     "data": {
      "text/plain": [
       "SVC(kernel='poly', max_iter=10000)"
      ]
     },
     "execution_count": 11,
     "metadata": {},
     "output_type": "execute_result"
    }
   ],
   "source": [
    "# SVM model\n",
    "\n",
    "svm_model = svm.SVC(kernel='poly',max_iter=10000)\n",
    "svm_model.fit(X_train, train_labels)"
   ]
  },
  {
   "cell_type": "code",
   "execution_count": 12,
   "metadata": {},
   "outputs": [],
   "source": [
    "svm_pred = svm_model.predict(X_test)\n",
    "svm_acc = accuracy_score(test_labels, svm_pred)"
   ]
  },
  {
   "cell_type": "markdown",
   "metadata": {},
   "source": [
    "#### Decision Tree\n",
    "General description: A supervised learning technique by decision making used for both classification and regression. Decision trees, as the name suggests, builds a model in the shape of a tree where it breaks down the data set into smaller subsets based a question posed by observations about the item. The final result is a tree with decision nodes and leaf nodes. The decision node has two or more branches. Leaf nodes represent a classification or decision. \n",
    "\n",
    "Pros: \n",
    "- Requires less effort for data preprocessing as the data does not need normalization or scaling\n",
    "- Missing values in the data does not considerably effect the building of the tree\n",
    "- Very intuitive and easy to understand\n",
    "- Robust to outliers\n",
    "\n",
    "Cons: \n",
    "- Small change in data can cause instability in the decision tree\n",
    "- Generally tends to overfit the data\n",
    "- Not suitable for large datasets as it can grow too complex and overfit\n",
    "- Not good at handling noisy data\n",
    "- High variance in output\n",
    "\n",
    "Suitability for handwriting recognition: Decision tree is not that suitable for handwriting recognition. The features that are used to determine a split are the pixels and by examining the intensity of one pixel, the decision tree determines which digit it is. It is not that effective because, as stated in the cons, small changes in the data can cause instability in the deicsion tree and there is a large variety of handwriting which can throw off the model. There is also a lot of overlap between the digits and decision tree is not good at handling noisy data."
   ]
  },
  {
   "cell_type": "code",
   "execution_count": 14,
   "metadata": {},
   "outputs": [
    {
     "data": {
      "text/plain": [
       "DecisionTreeClassifier()"
      ]
     },
     "execution_count": 14,
     "metadata": {},
     "output_type": "execute_result"
    }
   ],
   "source": [
    "# Decision Tree model\n",
    "\n",
    "dt_model = DecisionTreeClassifier()\n",
    "dt_model.fit(train_data, train_labels)"
   ]
  },
  {
   "cell_type": "code",
   "execution_count": 15,
   "metadata": {},
   "outputs": [],
   "source": [
    "dt_pred = dt_model.predict(test_data)\n",
    "dt_acc = accuracy_score(test_labels, dt_pred)"
   ]
  },
  {
   "cell_type": "markdown",
   "metadata": {},
   "source": [
    "#### Random Forest\n",
    "General description: Random forest is a model that builds multiple decision trees based on different samples. Random Forest is efficient at handling both regression and classification although it does perform better, typically, for classification. To use the random forest algorithm, an ensemble function is needed to combine multiple models so predictions are made based on a colletion of models rather than a singular model. There are two types of ensemble methods: bagging and boosting. Bagging creates a different training subset from sample training data with replacement and the final output is based on majority voting. Boosting combines weak learners into strong learners by creating sequential modesl such that the final model has the highest accuracy.\n",
    "\n",
    "Pros: \n",
    "- Better accuracy score compared to decision tree and other non-deep learning algorithms\n",
    "- Requires less effort for data preprocessing as the data does not need normalization or scaling\n",
    "- Missing values in the data does not considerably effect\n",
    "- Suitable for large data sets\n",
    "- A large amount of parameters to tweak to improve the model\n",
    "\n",
    "Cons: \n",
    "- Risk of overfitting\n",
    "- Biased towards variables with more values\n",
    "- High parameter complexity\n",
    "\n",
    "Suitability for handwriting recognition: Random forest is suitable for handwriting recognition and provides a high accuracy score. Random forest uses multiple decision trees to help improve accuracy. While a single decision tree searches for the most important feature to split the node, random forest searches for the best feature among a random subset of features to split the node. This additional randomness to the model creates a wider diversity and typically leads to higher accuracy."
   ]
  },
  {
   "cell_type": "code",
   "execution_count": 17,
   "metadata": {},
   "outputs": [
    {
     "data": {
      "text/plain": [
       "RandomForestClassifier()"
      ]
     },
     "execution_count": 17,
     "metadata": {},
     "output_type": "execute_result"
    }
   ],
   "source": [
    "# Random Forest model\n",
    "\n",
    "rf_model = RandomForestClassifier()\n",
    "rf_model.fit(train_data, train_labels)"
   ]
  },
  {
   "cell_type": "code",
   "execution_count": 18,
   "metadata": {},
   "outputs": [],
   "source": [
    "rf_pred = rf_model.predict(test_data)\n",
    "rf_acc = accuracy_score(test_labels, rf_pred)"
   ]
  },
  {
   "cell_type": "code",
   "execution_count": 20,
   "metadata": {},
   "outputs": [
    {
     "data": {
      "text/html": [
       "<div>\n",
       "<style scoped>\n",
       "    .dataframe tbody tr th:only-of-type {\n",
       "        vertical-align: middle;\n",
       "    }\n",
       "\n",
       "    .dataframe tbody tr th {\n",
       "        vertical-align: top;\n",
       "    }\n",
       "\n",
       "    .dataframe thead th {\n",
       "        text-align: right;\n",
       "    }\n",
       "</style>\n",
       "<table border=\"1\" class=\"dataframe\">\n",
       "  <thead>\n",
       "    <tr style=\"text-align: right;\">\n",
       "      <th></th>\n",
       "      <th>Models</th>\n",
       "      <th>Accuracy</th>\n",
       "    </tr>\n",
       "  </thead>\n",
       "  <tbody>\n",
       "    <tr>\n",
       "      <th>0</th>\n",
       "      <td>Logistic Regression</td>\n",
       "      <td>0.9256</td>\n",
       "    </tr>\n",
       "    <tr>\n",
       "      <th>1</th>\n",
       "      <td>SVM</td>\n",
       "      <td>0.9771</td>\n",
       "    </tr>\n",
       "    <tr>\n",
       "      <th>2</th>\n",
       "      <td>Decision Tree</td>\n",
       "      <td>0.8799</td>\n",
       "    </tr>\n",
       "    <tr>\n",
       "      <th>3</th>\n",
       "      <td>Random Forest</td>\n",
       "      <td>0.9700</td>\n",
       "    </tr>\n",
       "  </tbody>\n",
       "</table>\n",
       "</div>"
      ],
      "text/plain": [
       "                Models  Accuracy\n",
       "0  Logistic Regression    0.9256\n",
       "1                  SVM    0.9771\n",
       "2        Decision Tree    0.8799\n",
       "3        Random Forest    0.9700"
      ]
     },
     "execution_count": 20,
     "metadata": {},
     "output_type": "execute_result"
    }
   ],
   "source": [
    "# Compare models\n",
    "algos = ['Logistic Regression', 'SVM', 'Decision Tree', 'Random Forest']\n",
    "acc = [lr_acc, svm_acc, dt_acc, rf_acc]\n",
    "compare = {'Models': algos, 'Accuracy': acc}\n",
    "res = pd.DataFrame(compare)\n",
    "res"
   ]
  },
  {
   "cell_type": "markdown",
   "metadata": {},
   "source": [
    "## Task #2\n",
    "Convolutional Neural Network"
   ]
  },
  {
   "cell_type": "markdown",
   "metadata": {},
   "source": [
    "#### Data preprocessing"
   ]
  },
  {
   "cell_type": "code",
   "execution_count": 21,
   "metadata": {},
   "outputs": [],
   "source": [
    "X_train2 = train_images.reshape(train_images.shape[0], 28, 28, 1)\n",
    "X_test2 = test_images.reshape(test_images.shape[0], 28, 28, 1)\n",
    "X_train2 = X_train2.astype('float32')\n",
    "X_test2 = X_test2.astype('float32')\n",
    "\n",
    "y_train2 = to_categorical(train_labels)\n",
    "y_test2 = to_categorical(test_labels)\n",
    "\n",
    "# Normalize data\n",
    "X_train2 /= 255\n",
    "X_test2 /= 255\n",
    "\n",
    "# create validation set from train set\n",
    "X_train2, X_val, y_train2, y_val = train_test_split(X_train2, y_train2)"
   ]
  },
  {
   "cell_type": "markdown",
   "metadata": {},
   "source": [
    "#### CNN Model"
   ]
  },
  {
   "cell_type": "code",
   "execution_count": 22,
   "metadata": {},
   "outputs": [
    {
     "name": "stdout",
     "output_type": "stream",
     "text": [
      "Model: \"sequential\"\n",
      "_________________________________________________________________\n",
      " Layer (type)                Output Shape              Param #   \n",
      "=================================================================\n",
      " conv2d (Conv2D)             (None, 26, 26, 32)        320       \n",
      "                                                                 \n",
      " dropout (Dropout)           (None, 26, 26, 32)        0         \n",
      "                                                                 \n",
      " max_pooling2d (MaxPooling2D  (None, 13, 13, 32)       0         \n",
      " )                                                               \n",
      "                                                                 \n",
      " conv2d_1 (Conv2D)           (None, 11, 11, 64)        18496     \n",
      "                                                                 \n",
      " dropout_1 (Dropout)         (None, 11, 11, 64)        0         \n",
      "                                                                 \n",
      " max_pooling2d_1 (MaxPooling  (None, 5, 5, 64)         0         \n",
      " 2D)                                                             \n",
      "                                                                 \n",
      " conv2d_2 (Conv2D)           (None, 3, 3, 64)          36928     \n",
      "                                                                 \n",
      " dropout_2 (Dropout)         (None, 3, 3, 64)          0         \n",
      "                                                                 \n",
      " max_pooling2d_2 (MaxPooling  (None, 1, 1, 64)         0         \n",
      " 2D)                                                             \n",
      "                                                                 \n",
      " flatten (Flatten)           (None, 64)                0         \n",
      "                                                                 \n",
      " dense (Dense)               (None, 100)               6500      \n",
      "                                                                 \n",
      " dense_1 (Dense)             (None, 10)                1010      \n",
      "                                                                 \n",
      "=================================================================\n",
      "Total params: 63,254\n",
      "Trainable params: 63,254\n",
      "Non-trainable params: 0\n",
      "_________________________________________________________________\n",
      "None\n"
     ]
    }
   ],
   "source": [
    "cnn = Sequential()\n",
    "\n",
    "# layer 1\n",
    "cnn.add(Conv2D(32, kernel_size=(3,3), padding='valid', activation='relu', input_shape=(28,28,1)))\n",
    "cnn.add(Dropout(0.3))\n",
    "cnn.add(MaxPool2D((2,2)))\n",
    "\n",
    "# layer 2\n",
    "cnn.add(Conv2D(64, kernel_size=(3,3), activation='relu'))\n",
    "cnn.add(Dropout(0.3))\n",
    "cnn.add(MaxPool2D((2,2)))\n",
    "\n",
    "# layer 3\n",
    "cnn.add(Conv2D(64, kernel_size=(3,3), activation='relu'))\n",
    "cnn.add(Dropout(0.3))\n",
    "cnn.add(MaxPool2D((2,2)))\n",
    "\n",
    "# flatten layer\n",
    "cnn.add(Flatten())\n",
    "\n",
    "# FC layer\n",
    "cnn.add(Dense(100, activation='relu'))\n",
    "cnn.add(Dense(10, activation='softmax'))\n",
    "\n",
    "# compile model \n",
    "opt = SGD(learning_rate=0.01, momentum=0.9)\n",
    "cnn.compile(optimizer=opt, loss='categorical_crossentropy', metrics=['accuracy'])\n",
    "print(cnn.summary())"
   ]
  },
  {
   "cell_type": "code",
   "execution_count": 25,
   "metadata": {},
   "outputs": [
    {
     "name": "stdout",
     "output_type": "stream",
     "text": [
      "Epoch 1/11\n",
      "352/352 [==============================] - 57s 162ms/step - loss: 0.0483 - accuracy: 0.9851 - val_loss: 0.0652 - val_accuracy: 0.9868\n",
      "Epoch 2/11\n",
      "352/352 [==============================] - 58s 165ms/step - loss: 0.0476 - accuracy: 0.9844 - val_loss: 0.0615 - val_accuracy: 0.9881\n",
      "Epoch 3/11\n",
      "352/352 [==============================] - 57s 162ms/step - loss: 0.0473 - accuracy: 0.9846 - val_loss: 0.0690 - val_accuracy: 0.9880\n",
      "Epoch 4/11\n",
      "352/352 [==============================] - 57s 163ms/step - loss: 0.0469 - accuracy: 0.9850 - val_loss: 0.0672 - val_accuracy: 0.9886\n",
      "Epoch 5/11\n",
      "352/352 [==============================] - 57s 163ms/step - loss: 0.0459 - accuracy: 0.9854 - val_loss: 0.0700 - val_accuracy: 0.9875\n",
      "Epoch 6/11\n",
      "352/352 [==============================] - 57s 161ms/step - loss: 0.0425 - accuracy: 0.9859 - val_loss: 0.0549 - val_accuracy: 0.9888\n",
      "Epoch 7/11\n",
      "352/352 [==============================] - 57s 163ms/step - loss: 0.0437 - accuracy: 0.9855 - val_loss: 0.0592 - val_accuracy: 0.9884\n",
      "Epoch 8/11\n",
      "352/352 [==============================] - 56s 160ms/step - loss: 0.0417 - accuracy: 0.9862 - val_loss: 0.0643 - val_accuracy: 0.9885\n",
      "Epoch 9/11\n",
      "352/352 [==============================] - 58s 165ms/step - loss: 0.0416 - accuracy: 0.9868 - val_loss: 0.0575 - val_accuracy: 0.9886\n",
      "Epoch 10/11\n",
      "352/352 [==============================] - 56s 160ms/step - loss: 0.0400 - accuracy: 0.9865 - val_loss: 0.0584 - val_accuracy: 0.9895\n",
      "Epoch 11/11\n",
      "352/352 [==============================] - 58s 164ms/step - loss: 0.0403 - accuracy: 0.9872 - val_loss: 0.0569 - val_accuracy: 0.9886\n"
     ]
    },
    {
     "data": {
      "text/plain": [
       "<keras.callbacks.History at 0x1e0d64364c0>"
      ]
     },
     "execution_count": 25,
     "metadata": {},
     "output_type": "execute_result"
    }
   ],
   "source": [
    "cnn.fit(X_train2, y_train2, batch_size=128, epochs=11, validation_data=(X_val, y_val))"
   ]
  },
  {
   "cell_type": "code",
   "execution_count": 26,
   "metadata": {},
   "outputs": [
    {
     "name": "stdout",
     "output_type": "stream",
     "text": [
      "313/313 [==============================] - 3s 10ms/step - loss: 0.0556 - accuracy: 0.9895\n"
     ]
    }
   ],
   "source": [
    "test_loss, test_acc = cnn.evaluate(X_test2, y_test2)"
   ]
  },
  {
   "cell_type": "markdown",
   "metadata": {},
   "source": [
    "## Task #3\n"
   ]
  },
  {
   "cell_type": "code",
   "execution_count": 27,
   "metadata": {},
   "outputs": [],
   "source": [
    "# input my 50 images of handwritten digits 0-9\n",
    "# format them correctly to work with the models\n",
    "\n",
    "path = './my_img'\n",
    "\n",
    "my_img = []\n",
    "\n",
    "for img_path in os.listdir(path):\n",
    "    i = os.path.join(path, img_path)\n",
    "    img = cv2.imread(i, cv2.IMREAD_GRAYSCALE)\n",
    "    im_resized = cv2.resize(img, (28,28), interpolation=cv2.INTER_LINEAR)\n",
    "    im_resized = cv2.bitwise_not(im_resized)\n",
    "    im_arr = np.array(im_resized)\n",
    "    my_img.append(im_arr)\n",
    "\n",
    "my_img = np.array(my_img)"
   ]
  },
  {
   "cell_type": "code",
   "execution_count": 28,
   "metadata": {},
   "outputs": [],
   "source": [
    "# labels for my images\n",
    "my_labels = [0,0,0,0,0,1,1,1,1,1,2,2,2,2,2,3,3,3,3,3,4,4,4,4,4,5,5,5,5,5,6,6,6,6,6,7,7,7,7,7,8,8,8,8,8,9,9,9,9,9]\n",
    "my_labels = np.array(my_labels)"
   ]
  },
  {
   "cell_type": "code",
   "execution_count": 29,
   "metadata": {},
   "outputs": [
    {
     "data": {
      "image/png": "[encoded data removed]",
      "text/plain": [
       "<Figure size 432x288 with 50 Axes>"
      ]
     },
     "metadata": {
      "needs_background": "light"
     },
     "output_type": "display_data"
    }
   ],
   "source": [
    "for i in range(50):\n",
    "    plt.subplot(10, 5, 1+i)\n",
    "    plt.imshow(my_img[i], cmap=plt.get_cmap('gray'))\n",
    "plt.show()"
   ]
  },
  {
   "cell_type": "code",
   "execution_count": 30,
   "metadata": {},
   "outputs": [
    {
     "name": "stdout",
     "output_type": "stream",
     "text": [
      "[0 0 0 0 0 1 1 1 1 1 2 2 2 2 2 3 3 3 3 3 4 4 4 4 4 5 5 5 5 5 6 6 6 6 6 7 7\n",
      " 7 7 7 8 8 8 8 8 9 9 9 9 9]\n"
     ]
    }
   ],
   "source": [
    "print(my_labels)"
   ]
  },
  {
   "cell_type": "code",
   "execution_count": 31,
   "metadata": {},
   "outputs": [
    {
     "name": "stdout",
     "output_type": "stream",
     "text": [
      "my_img shape: (50, 28, 28)\n",
      "my_labels shape: (50,)\n"
     ]
    }
   ],
   "source": [
    "print(\"my_img shape: \" + str(my_img.shape))\n",
    "print(\"my_labels shape: \" + str(my_labels.shape))"
   ]
  },
  {
   "cell_type": "code",
   "execution_count": 42,
   "metadata": {},
   "outputs": [
    {
     "name": "stdout",
     "output_type": "stream",
     "text": [
      "X shape: (50, 784)\n"
     ]
    }
   ],
   "source": [
    "# change shape of my_img\n",
    "X = my_img.reshape(50, 28*28)\n",
    "\n",
    "print(\"X shape: \" + str(X.shape))"
   ]
  },
  {
   "cell_type": "code",
   "execution_count": 43,
   "metadata": {},
   "outputs": [],
   "source": [
    "# Normalize the data\n",
    "X_scaled = scaler.transform(X)"
   ]
  },
  {
   "cell_type": "code",
   "execution_count": 44,
   "metadata": {},
   "outputs": [],
   "source": [
    "# Logistic Regression \n",
    "my_lr_pred = lr_model.predict(X_scaled)\n",
    "my_lr_acc = accuracy_score(my_labels, my_lr_pred)"
   ]
  },
  {
   "cell_type": "code",
   "execution_count": 45,
   "metadata": {},
   "outputs": [],
   "source": [
    "# SVM\n",
    "my_svm_pred = svm_model.predict(X_scaled)\n",
    "my_svm_acc = accuracy_score(my_labels, my_svm_pred)"
   ]
  },
  {
   "cell_type": "code",
   "execution_count": 46,
   "metadata": {},
   "outputs": [],
   "source": [
    "# Decision Tree\n",
    "my_dt_pred = dt_model.predict(X)\n",
    "my_dt_acc = accuracy_score(my_labels, my_dt_pred)"
   ]
  },
  {
   "cell_type": "code",
   "execution_count": 47,
   "metadata": {},
   "outputs": [],
   "source": [
    "# Random Forest\n",
    "my_rf_pred = rf_model.predict(X)\n",
    "my_rf_acc = accuracy_score(my_labels, my_rf_pred)"
   ]
  },
  {
   "cell_type": "code",
   "execution_count": 48,
   "metadata": {},
   "outputs": [],
   "source": [
    "# CNN\n",
    "# preprocess\n",
    "X_cnn = my_img.reshape(my_img.shape[0], 28,28,1)\n",
    "X_cnn = X_cnn.astype('float32')\n",
    "\n",
    "y = to_categorical(my_labels)\n",
    "\n",
    "# Normalize data\n",
    "X_cnn /= 255\n"
   ]
  },
  {
   "cell_type": "code",
   "execution_count": 49,
   "metadata": {},
   "outputs": [
    {
     "name": "stdout",
     "output_type": "stream",
     "text": [
      "2/2 [==============================] - 0s 12ms/step - loss: 1.9853 - accuracy: 0.3200\n"
     ]
    }
   ],
   "source": [
    "my_cnn_loss, my_cnn_acc = cnn.evaluate(X_cnn, y)"
   ]
  },
  {
   "cell_type": "code",
   "execution_count": 50,
   "metadata": {},
   "outputs": [
    {
     "data": {
      "text/html": [
       "<div>\n",
       "<style scoped>\n",
       "    .dataframe tbody tr th:only-of-type {\n",
       "        vertical-align: middle;\n",
       "    }\n",
       "\n",
       "    .dataframe tbody tr th {\n",
       "        vertical-align: top;\n",
       "    }\n",
       "\n",
       "    .dataframe thead th {\n",
       "        text-align: right;\n",
       "    }\n",
       "</style>\n",
       "<table border=\"1\" class=\"dataframe\">\n",
       "  <thead>\n",
       "    <tr style=\"text-align: right;\">\n",
       "      <th></th>\n",
       "      <th>Models</th>\n",
       "      <th>Accuracy</th>\n",
       "    </tr>\n",
       "  </thead>\n",
       "  <tbody>\n",
       "    <tr>\n",
       "      <th>0</th>\n",
       "      <td>Logistic Regression</td>\n",
       "      <td>0.12</td>\n",
       "    </tr>\n",
       "    <tr>\n",
       "      <th>1</th>\n",
       "      <td>SVM</td>\n",
       "      <td>0.14</td>\n",
       "    </tr>\n",
       "    <tr>\n",
       "      <th>2</th>\n",
       "      <td>Decision Tree</td>\n",
       "      <td>0.14</td>\n",
       "    </tr>\n",
       "    <tr>\n",
       "      <th>3</th>\n",
       "      <td>Random Forest</td>\n",
       "      <td>0.10</td>\n",
       "    </tr>\n",
       "    <tr>\n",
       "      <th>4</th>\n",
       "      <td>CNN</td>\n",
       "      <td>0.32</td>\n",
       "    </tr>\n",
       "  </tbody>\n",
       "</table>\n",
       "</div>"
      ],
      "text/plain": [
       "                Models  Accuracy\n",
       "0  Logistic Regression      0.12\n",
       "1                  SVM      0.14\n",
       "2        Decision Tree      0.14\n",
       "3        Random Forest      0.10\n",
       "4                  CNN      0.32"
      ]
     },
     "execution_count": 50,
     "metadata": {},
     "output_type": "execute_result"
    }
   ],
   "source": [
    "# Compare models\n",
    "\n",
    "algos = ['Logistic Regression', 'SVM', 'Decision Tree', 'Random Forest', 'CNN']\n",
    "acc = [my_lr_acc, my_svm_acc, my_dt_acc, my_rf_acc, my_cnn_acc]\n",
    "compare = {'Models': algos, 'Accuracy': acc}\n",
    "res = pd.DataFrame(compare)\n",
    "res"
   ]
  }
 ],
 "metadata": {
  "kernelspec": {
   "display_name": "Python 3",
   "language": "python",
   "name": "python3"
  },
  "language_info": {
   "codemirror_mode": {
    "name": "ipython",
    "version": 3
   },
   "file_extension": ".py",
   "mimetype": "text/x-python",
   "name": "python",
   "nbconvert_exporter": "python",
   "pygments_lexer": "ipython3",
   "version": "3.8.5"
  }
 },
 "nbformat": 4,
 "nbformat_minor": 4
}
